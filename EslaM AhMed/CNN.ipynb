{
  "nbformat": 4,
  "nbformat_minor": 0,
  "metadata": {
    "colab": {
      "provenance": [],
      "authorship_tag": "ABX9TyMUDvRhOuUsXlt4VSJLjpPC",
      "include_colab_link": true
    },
    "kernelspec": {
      "name": "python3",
      "display_name": "Python 3"
    },
    "language_info": {
      "name": "python"
    },
    "accelerator": "GPU",
    "gpuClass": "standard"
  },
  "cells": [
    {
      "cell_type": "markdown",
      "metadata": {
        "id": "view-in-github",
        "colab_type": "text"
      },
      "source": [
        "<a href=\"https://colab.research.google.com/github/EslaM-AhMed14/Computer-Vision/blob/main/EslaM%20AhMed/CNN.ipynb\" target=\"_parent\"><img src=\"https://colab.research.google.com/assets/colab-badge.svg\" alt=\"Open In Colab\"/></a>"
      ]
    },
    {
      "cell_type": "markdown",
      "source": [
        "# setup"
      ],
      "metadata": {
        "id": "A8ZboeOdLtQv"
      }
    },
    {
      "cell_type": "code",
      "execution_count": 1,
      "metadata": {
        "id": "7GE-21wALKD_"
      },
      "outputs": [],
      "source": [
        "from tensorflow import keras\n",
        "from tensorflow.keras import layers\n",
        "from tensorflow.keras.datasets import mnist"
      ]
    },
    {
      "cell_type": "markdown",
      "source": [
        "Loading Data"
      ],
      "metadata": {
        "id": "UrVb8qt1N4MV"
      }
    },
    {
      "cell_type": "code",
      "source": [
        "(X_train, y_tarin) , (X_test , y_test) = mnist.load_data()"
      ],
      "metadata": {
        "id": "llWrMuibN3ps"
      },
      "execution_count": 2,
      "outputs": []
    },
    {
      "cell_type": "markdown",
      "source": [
        "reshape Data"
      ],
      "metadata": {
        "id": "bW_HAmB2OgSO"
      }
    },
    {
      "cell_type": "code",
      "source": [
        "X_train = X_train.reshape((60000, 28, 28, 1))\n",
        "X_test = X_test.reshape((10000, 28, 28, 1))"
      ],
      "metadata": {
        "id": "ILttS35hOSvi"
      },
      "execution_count": 3,
      "outputs": []
    },
    {
      "cell_type": "markdown",
      "source": [
        "CNN with Maxpolling"
      ],
      "metadata": {
        "id": "kXaFLE-jPBpp"
      }
    },
    {
      "cell_type": "code",
      "source": [
        "inputs = keras.Input(shape=(28, 28, 1))\n",
        "feature = layers.Conv2D(filters=32, kernel_size=3, activation=\"relu\")(inputs)\n",
        "feature = layers.MaxPooling2D(pool_size=2)(feature)\n",
        "feature = layers.Conv2D(filters=64, kernel_size=3, activation=\"relu\")(feature)\n",
        "feature = layers.MaxPooling2D(pool_size=2)(feature)\n",
        "feature = layers.Conv2D(filters=128, kernel_size=3, activation=\"relu\")(feature)\n",
        "feature = layers.Flatten()(feature)\n",
        "outputs = layers.Dense(10, activation=\"softmax\")(feature)\n",
        "model_with_Maxpool = keras.Model(inputs=inputs, outputs=outputs)\n"
      ],
      "metadata": {
        "id": "2hR_Z2DFOtTy"
      },
      "execution_count": 4,
      "outputs": []
    },
    {
      "cell_type": "markdown",
      "source": [
        "CNN without Maxpolling"
      ],
      "metadata": {
        "id": "r3sBLP9dPyGS"
      }
    },
    {
      "cell_type": "code",
      "source": [
        "inputs = keras.Input(shape=(28, 28, 1))\n",
        "feature = layers.Conv2D(filters=32, kernel_size=3, activation=\"relu\")(inputs)\n",
        "feature = layers.Conv2D(filters=64, kernel_size=3, activation=\"relu\")(feature)\n",
        "feature = layers.Conv2D(filters=128, kernel_size=3, activation=\"relu\")(feature)\n",
        "feature = layers.Flatten()(feature)\n",
        "outputs = layers.Dense(10, activation=\"softmax\")(feature)\n",
        "model_without_Maxpool = keras.Model(inputs=inputs, outputs=outputs)"
      ],
      "metadata": {
        "id": "bYiHs8dRPypu"
      },
      "execution_count": 5,
      "outputs": []
    },
    {
      "cell_type": "markdown",
      "source": [
        "# models "
      ],
      "metadata": {
        "id": "qLZXDI8eRW3c"
      }
    },
    {
      "cell_type": "code",
      "source": [
        "models = {\n",
        "    \"CNN with Maxpool\" : model_with_Maxpool,\n",
        "    \"CNN maxpool without normalization\" : model_with_Maxpool , \n",
        "    \"CNN without Maxpool\" : model_without_Maxpool , \n",
        "    \"CNN without maxpool and normalization\" : model_without_Maxpool\n",
        "}"
      ],
      "metadata": {
        "id": "stMX-fcvQAJG"
      },
      "execution_count": 6,
      "outputs": []
    },
    {
      "cell_type": "markdown",
      "source": [
        "Training and Evaluating  the CNN"
      ],
      "metadata": {
        "id": "baVIvz5-RbNn"
      }
    },
    {
      "cell_type": "code",
      "source": [
        "for name , model in models.items() : \n",
        "  print(name);print()\n",
        "\n",
        "  #normalization \n",
        "  if(name == \"CNN with Maxpool\"  or name == \"CNN without Maxpool\" ):\n",
        "      X_train = X_train.astype(\"float32\") / 255\n",
        "      X_test = X_test.astype(\"float32\") / 255\n",
        "  \n",
        "\n",
        "  \n",
        "  #compilr model\n",
        "  model.compile(optimizer=\"rmsprop\",\n",
        "    loss=\"sparse_categorical_crossentropy\",\n",
        "    metrics=[\"accuracy\"])\n",
        "  \n",
        "  #traning model \n",
        "  print(name+ \" training :\")\n",
        "  model.fit(X_train,y_tarin, epochs=5, batch_size=64)\n",
        "\n",
        "  #evaluating model \n",
        "  print(name+ \" evaluating :\");print()\n",
        "  \n",
        "  test_loss, test_acc = model.evaluate(X_test, y_test)\n",
        "  print(f\"Test loss: {test_loss:.3f}\")\n",
        "  print(f\"Test accuracy: {test_acc:.3f}\");print()\n",
        "  model.summary();print()\n",
        "  print(\"------------------------\" );print()"
      ],
      "metadata": {
        "colab": {
          "base_uri": "https://localhost:8080/"
        },
        "id": "LAQ9R1G-Rarl",
        "outputId": "738491b2-a8a7-46f3-9673-c9a7bef061c0"
      },
      "execution_count": 7,
      "outputs": [
        {
          "output_type": "stream",
          "name": "stdout",
          "text": [
            "CNN with Maxpool\n",
            "\n",
            "CNN with Maxpool training :\n",
            "Epoch 1/5\n",
            "938/938 [==============================] - 8s 4ms/step - loss: 0.1513 - accuracy: 0.9530\n",
            "Epoch 2/5\n",
            "938/938 [==============================] - 4s 4ms/step - loss: 0.0427 - accuracy: 0.9869\n",
            "Epoch 3/5\n",
            "938/938 [==============================] - 4s 4ms/step - loss: 0.0310 - accuracy: 0.9904\n",
            "Epoch 4/5\n",
            "938/938 [==============================] - 4s 4ms/step - loss: 0.0234 - accuracy: 0.9929\n",
            "Epoch 5/5\n",
            "938/938 [==============================] - 4s 4ms/step - loss: 0.0185 - accuracy: 0.9941\n",
            "CNN with Maxpool evaluating :\n",
            "\n",
            "313/313 [==============================] - 1s 3ms/step - loss: 0.0313 - accuracy: 0.9905\n",
            "Test loss: 0.031\n",
            "Test accuracy: 0.990\n",
            "\n",
            "Model: \"model\"\n",
            "_________________________________________________________________\n",
            " Layer (type)                Output Shape              Param #   \n",
            "=================================================================\n",
            " input_1 (InputLayer)        [(None, 28, 28, 1)]       0         \n",
            "                                                                 \n",
            " conv2d (Conv2D)             (None, 26, 26, 32)        320       \n",
            "                                                                 \n",
            " max_pooling2d (MaxPooling2D  (None, 13, 13, 32)       0         \n",
            " )                                                               \n",
            "                                                                 \n",
            " conv2d_1 (Conv2D)           (None, 11, 11, 64)        18496     \n",
            "                                                                 \n",
            " max_pooling2d_1 (MaxPooling  (None, 5, 5, 64)         0         \n",
            " 2D)                                                             \n",
            "                                                                 \n",
            " conv2d_2 (Conv2D)           (None, 3, 3, 128)         73856     \n",
            "                                                                 \n",
            " flatten (Flatten)           (None, 1152)              0         \n",
            "                                                                 \n",
            " dense (Dense)               (None, 10)                11530     \n",
            "                                                                 \n",
            "=================================================================\n",
            "Total params: 104,202\n",
            "Trainable params: 104,202\n",
            "Non-trainable params: 0\n",
            "_________________________________________________________________\n",
            "\n",
            "------------------------\n",
            "\n",
            "CNN maxpool without normalization\n",
            "\n",
            "CNN maxpool without normalization training :\n",
            "Epoch 1/5\n",
            "938/938 [==============================] - 4s 4ms/step - loss: 0.0147 - accuracy: 0.9952\n",
            "Epoch 2/5\n",
            "938/938 [==============================] - 4s 4ms/step - loss: 0.0128 - accuracy: 0.9962\n",
            "Epoch 3/5\n",
            "938/938 [==============================] - 4s 4ms/step - loss: 0.0093 - accuracy: 0.9972\n",
            "Epoch 4/5\n",
            "938/938 [==============================] - 4s 4ms/step - loss: 0.0085 - accuracy: 0.9975\n",
            "Epoch 5/5\n",
            "938/938 [==============================] - 4s 4ms/step - loss: 0.0073 - accuracy: 0.9980\n",
            "CNN maxpool without normalization evaluating :\n",
            "\n",
            "313/313 [==============================] - 1s 3ms/step - loss: 0.0331 - accuracy: 0.9933\n",
            "Test loss: 0.033\n",
            "Test accuracy: 0.993\n",
            "\n",
            "Model: \"model\"\n",
            "_________________________________________________________________\n",
            " Layer (type)                Output Shape              Param #   \n",
            "=================================================================\n",
            " input_1 (InputLayer)        [(None, 28, 28, 1)]       0         \n",
            "                                                                 \n",
            " conv2d (Conv2D)             (None, 26, 26, 32)        320       \n",
            "                                                                 \n",
            " max_pooling2d (MaxPooling2D  (None, 13, 13, 32)       0         \n",
            " )                                                               \n",
            "                                                                 \n",
            " conv2d_1 (Conv2D)           (None, 11, 11, 64)        18496     \n",
            "                                                                 \n",
            " max_pooling2d_1 (MaxPooling  (None, 5, 5, 64)         0         \n",
            " 2D)                                                             \n",
            "                                                                 \n",
            " conv2d_2 (Conv2D)           (None, 3, 3, 128)         73856     \n",
            "                                                                 \n",
            " flatten (Flatten)           (None, 1152)              0         \n",
            "                                                                 \n",
            " dense (Dense)               (None, 10)                11530     \n",
            "                                                                 \n",
            "=================================================================\n",
            "Total params: 104,202\n",
            "Trainable params: 104,202\n",
            "Non-trainable params: 0\n",
            "_________________________________________________________________\n",
            "\n",
            "------------------------\n",
            "\n",
            "CNN without Maxpool\n",
            "\n",
            "CNN without Maxpool training :\n",
            "Epoch 1/5\n",
            "938/938 [==============================] - 9s 9ms/step - loss: 0.6159 - accuracy: 0.8012\n",
            "Epoch 2/5\n",
            "938/938 [==============================] - 8s 8ms/step - loss: 0.1365 - accuracy: 0.9605\n",
            "Epoch 3/5\n",
            "938/938 [==============================] - 8s 8ms/step - loss: 0.0858 - accuracy: 0.9753\n",
            "Epoch 4/5\n",
            "938/938 [==============================] - 8s 8ms/step - loss: 0.0712 - accuracy: 0.9794\n",
            "Epoch 5/5\n",
            "938/938 [==============================] - 8s 8ms/step - loss: 0.0628 - accuracy: 0.9825\n",
            "CNN without Maxpool evaluating :\n",
            "\n",
            "313/313 [==============================] - 1s 3ms/step - loss: 0.0614 - accuracy: 0.9801\n",
            "Test loss: 0.061\n",
            "Test accuracy: 0.980\n",
            "\n",
            "Model: \"model_1\"\n",
            "_________________________________________________________________\n",
            " Layer (type)                Output Shape              Param #   \n",
            "=================================================================\n",
            " input_2 (InputLayer)        [(None, 28, 28, 1)]       0         \n",
            "                                                                 \n",
            " conv2d_3 (Conv2D)           (None, 26, 26, 32)        320       \n",
            "                                                                 \n",
            " conv2d_4 (Conv2D)           (None, 24, 24, 64)        18496     \n",
            "                                                                 \n",
            " conv2d_5 (Conv2D)           (None, 22, 22, 128)       73856     \n",
            "                                                                 \n",
            " flatten_1 (Flatten)         (None, 61952)             0         \n",
            "                                                                 \n",
            " dense_1 (Dense)             (None, 10)                619530    \n",
            "                                                                 \n",
            "=================================================================\n",
            "Total params: 712,202\n",
            "Trainable params: 712,202\n",
            "Non-trainable params: 0\n",
            "_________________________________________________________________\n",
            "\n",
            "------------------------\n",
            "\n",
            "CNN without maxpool and normalization\n",
            "\n",
            "CNN without maxpool and normalization training :\n",
            "Epoch 1/5\n",
            "938/938 [==============================] - 9s 9ms/step - loss: 0.0588 - accuracy: 0.9833\n",
            "Epoch 2/5\n",
            "938/938 [==============================] - 8s 9ms/step - loss: 0.0534 - accuracy: 0.9844\n",
            "Epoch 3/5\n",
            "938/938 [==============================] - 8s 8ms/step - loss: 0.0501 - accuracy: 0.9855\n",
            "Epoch 4/5\n",
            "938/938 [==============================] - 8s 9ms/step - loss: 0.0469 - accuracy: 0.9862\n",
            "Epoch 5/5\n",
            "938/938 [==============================] - 8s 8ms/step - loss: 0.0440 - accuracy: 0.9875\n",
            "CNN without maxpool and normalization evaluating :\n",
            "\n",
            "313/313 [==============================] - 1s 3ms/step - loss: 0.0487 - accuracy: 0.9847\n",
            "Test loss: 0.049\n",
            "Test accuracy: 0.985\n",
            "\n",
            "Model: \"model_1\"\n",
            "_________________________________________________________________\n",
            " Layer (type)                Output Shape              Param #   \n",
            "=================================================================\n",
            " input_2 (InputLayer)        [(None, 28, 28, 1)]       0         \n",
            "                                                                 \n",
            " conv2d_3 (Conv2D)           (None, 26, 26, 32)        320       \n",
            "                                                                 \n",
            " conv2d_4 (Conv2D)           (None, 24, 24, 64)        18496     \n",
            "                                                                 \n",
            " conv2d_5 (Conv2D)           (None, 22, 22, 128)       73856     \n",
            "                                                                 \n",
            " flatten_1 (Flatten)         (None, 61952)             0         \n",
            "                                                                 \n",
            " dense_1 (Dense)             (None, 10)                619530    \n",
            "                                                                 \n",
            "=================================================================\n",
            "Total params: 712,202\n",
            "Trainable params: 712,202\n",
            "Non-trainable params: 0\n",
            "_________________________________________________________________\n",
            "\n",
            "------------------------\n",
            "\n"
          ]
        }
      ]
    }
  ]
}