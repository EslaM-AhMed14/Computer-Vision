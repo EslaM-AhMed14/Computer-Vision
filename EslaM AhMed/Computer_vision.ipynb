{
  "nbformat": 4,
  "nbformat_minor": 0,
  "metadata": {
    "colab": {
      "provenance": [],
      "authorship_tag": "ABX9TyOGPWDiIumULJH8nZF3//5Q",
      "include_colab_link": true
    },
    "kernelspec": {
      "name": "python3",
      "display_name": "Python 3"
    },
    "language_info": {
      "name": "python"
    }
  },
  "cells": [
    {
      "cell_type": "markdown",
      "metadata": {
        "id": "view-in-github",
        "colab_type": "text"
      },
      "source": [
        "<a href=\"https://colab.research.google.com/github/EslaM-AhMed14/Computer-Vision/blob/main/EslaM%20AhMed/Computer_vision.ipynb\" target=\"_parent\"><img src=\"https://colab.research.google.com/assets/colab-badge.svg\" alt=\"Open In Colab\"/></a>"
      ]
    },
    {
      "cell_type": "markdown",
      "source": [
        "\n",
        "# setup"
      ],
      "metadata": {
        "id": "DjouMW_iMvku"
      }
    },
    {
      "cell_type": "code",
      "source": [
        "from tensorflow import keras\n",
        "from tensorflow.keras import layers\n",
        "from tensorflow.keras.datasets import mnist"
      ],
      "metadata": {
        "id": "z-u5zSvdMxz_"
      },
      "execution_count": 1,
      "outputs": []
    },
    {
      "cell_type": "markdown",
      "source": [
        "# Loading datasets"
      ],
      "metadata": {
        "id": "tlXQ-R8dOOJ5"
      }
    },
    {
      "cell_type": "code",
      "source": [
        "(train_data , train_labels) , (test_data, test_labels) = mnist.load_data()"
      ],
      "metadata": {
        "id": "0sHQuLSiNqbL"
      },
      "execution_count": 2,
      "outputs": []
    },
    {
      "cell_type": "code",
      "source": [
        "print( \"shape of train images: \", train_data.shape)\n",
        "\n",
        "train_len = len(train_data)\n",
        "\n",
        "print( \"shape of test images: \", test_data.shape)\n",
        "\n",
        "test_len = len(test_data)\n"
      ],
      "metadata": {
        "colab": {
          "base_uri": "https://localhost:8080/"
        },
        "id": "ECEW2nVSOj2E",
        "outputId": "1006369e-564e-4bf7-a362-a0461d1dacf5"
      },
      "execution_count": 3,
      "outputs": [
        {
          "output_type": "stream",
          "name": "stdout",
          "text": [
            "shape of train images:  (60000, 28, 28)\n",
            "shape of test images:  (10000, 28, 28)\n"
          ]
        }
      ]
    },
    {
      "cell_type": "markdown",
      "source": [
        "## preparing the image data"
      ],
      "metadata": {
        "id": "OJDYVdY7QARo"
      }
    },
    {
      "cell_type": "code",
      "source": [
        "train_data = train_data.reshape(train_len , 28 *28)\n",
        "train_data = train_data.astype(\"float32\")/255\n",
        "\n",
        "test_data = test_data.reshape(test_len , 28 *28)\n",
        "test_data = test_data.astype(\"float32\")/255"
      ],
      "metadata": {
        "id": "xeOEm049QDPL"
      },
      "execution_count": 4,
      "outputs": []
    },
    {
      "cell_type": "markdown",
      "source": [
        "# The network architecture"
      ],
      "metadata": {
        "id": "4b-Cj4qbScqx"
      }
    },
    {
      "cell_type": "markdown",
      "source": [
        "The Sequential model (list)\n",
        "\n",
        "\n",
        "\n",
        "\n"
      ],
      "metadata": {
        "id": "dHTocBSTSp3T"
      }
    },
    {
      "cell_type": "code",
      "source": [
        "model_sequential = keras.Sequential([\n",
        "  layers.Dense(512 , activation = \"relu\"),\n",
        "  layers.Dense(512 , activation = \"relu\"),\n",
        "  layers.Dense(10 , activation = \"softmax\")\n",
        "])\n",
        "\n",
        "#compilation set\n",
        "\n",
        "model_sequential.compile(optimizer= \"rmsprop\",\n",
        "              loss=\"sparse_categorical_crossentropy\",\n",
        "              metrics=[\"accuracy\"])\n",
        "\n",
        "#fitting the model \n",
        "\n",
        "model_sequential.fit(train_data, train_labels, epochs=5, batch_size=128)\n",
        "\n",
        "# Evaluate the model on  test data \n",
        "\n",
        "test_loss , test_acc = model_sequential.evaluate(test_data , test_labels)\n",
        "print(f\"test_loss: {test_loss}\")\n",
        "print(f\"test_acc: {test_acc}\")\n"
      ],
      "metadata": {
        "colab": {
          "base_uri": "https://localhost:8080/"
        },
        "id": "N085XMB4SjtR",
        "outputId": "97b7d8ce-4309-48c3-e30e-3ce45fe20423"
      },
      "execution_count": 5,
      "outputs": [
        {
          "output_type": "stream",
          "name": "stdout",
          "text": [
            "Epoch 1/5\n",
            "469/469 [==============================] - 12s 23ms/step - loss: 0.2170 - accuracy: 0.9333\n",
            "Epoch 2/5\n",
            "469/469 [==============================] - 9s 18ms/step - loss: 0.0820 - accuracy: 0.9752\n",
            "Epoch 3/5\n",
            "469/469 [==============================] - 8s 18ms/step - loss: 0.0544 - accuracy: 0.9835\n",
            "Epoch 4/5\n",
            "469/469 [==============================] - 9s 19ms/step - loss: 0.0400 - accuracy: 0.9874\n",
            "Epoch 5/5\n",
            "469/469 [==============================] - 8s 17ms/step - loss: 0.0287 - accuracy: 0.9905\n",
            "313/313 [==============================] - 1s 4ms/step - loss: 0.1047 - accuracy: 0.9761\n",
            "test_loss: 0.10471252351999283\n",
            "test_acc: 0.9761000275611877\n"
          ]
        }
      ]
    },
    {
      "cell_type": "markdown",
      "source": [
        "The Sequential model ( incrementally )"
      ],
      "metadata": {
        "id": "-e3KRTtnV0jI"
      }
    },
    {
      "cell_type": "code",
      "source": [
        "model_sequential_inc = keras.Sequential()\n",
        "\n",
        "model_sequential_inc.add(layers.Dense(512 , activation = \"relu\"))\n",
        "model_sequential_inc.add(layers.Dense(512 , activation = \"relu\"))\n",
        "model_sequential_inc.add(layers.Dense(512 , activation = \"relu\"))\n",
        "model_sequential_inc.add(layers.Dense(10 , activation = \"softmax\"))\n",
        "\n",
        "#compilation set\n",
        "\n",
        "model_sequential_inc.compile(optimizer= \"adam\",\n",
        "              loss=\"sparse_categorical_crossentropy\",\n",
        "              metrics=[\"accuracy\"])\n",
        "\n",
        "#fitting the model \n",
        "\n",
        "model_sequential_inc.fit(train_data, train_labels, epochs=5, batch_size=128)\n",
        "\n",
        "# Evaluate the model on  test data \n",
        "\n",
        "test_loss , test_acc = model_sequential_inc.evaluate(test_data , test_labels)\n",
        "print(f\"test_loss: {test_loss}\")\n",
        "print(f\"test_acc: {test_acc}\")"
      ],
      "metadata": {
        "colab": {
          "base_uri": "https://localhost:8080/"
        },
        "id": "03pTpM1kVwuQ",
        "outputId": "0c7336da-e8d5-4fa0-c66b-71f06626ffc7"
      },
      "execution_count": 6,
      "outputs": [
        {
          "output_type": "stream",
          "name": "stdout",
          "text": [
            "Epoch 1/5\n",
            "469/469 [==============================] - 10s 21ms/step - loss: 0.2159 - accuracy: 0.9341\n",
            "Epoch 2/5\n",
            "469/469 [==============================] - 10s 21ms/step - loss: 0.0827 - accuracy: 0.9745\n",
            "Epoch 3/5\n",
            "469/469 [==============================] - 11s 23ms/step - loss: 0.0554 - accuracy: 0.9820\n",
            "Epoch 4/5\n",
            "469/469 [==============================] - 10s 22ms/step - loss: 0.0418 - accuracy: 0.9872\n",
            "Epoch 5/5\n",
            "469/469 [==============================] - 10s 21ms/step - loss: 0.0309 - accuracy: 0.9900\n",
            "313/313 [==============================] - 2s 5ms/step - loss: 0.0908 - accuracy: 0.9760\n",
            "test_loss: 0.09084378182888031\n",
            "test_acc: 0.9760000109672546\n"
          ]
        }
      ]
    },
    {
      "cell_type": "markdown",
      "source": [
        "The Functional API\n"
      ],
      "metadata": {
        "id": "CVgt5s0XU7zS"
      }
    },
    {
      "cell_type": "code",
      "source": [
        "\n",
        "inputs = keras.Input(shape=(28*28,))\n",
        "features = layers.Dense(64, activation=\"relu\")(inputs)\n",
        "outputs = layers.Dense(10, activation=\"softmax\")(features)\n",
        "\n",
        "model_functinal = keras.Model (inputs= inputs , outputs = outputs)\n",
        "\n",
        "#compilation set\n",
        "\n",
        "model_functinal.compile(optimizer= \"rmsprop\",\n",
        "              loss=\"sparse_categorical_crossentropy\",\n",
        "              metrics=[\"accuracy\"])\n",
        "\n",
        "#fitting the model \n",
        "\n",
        "model_functinal.fit(train_data, train_labels, epochs=6, batch_size=128)\n",
        "\n",
        "# Evaluate the model on  test data \n",
        "\n",
        "test_loss , test_acc = model_functinal.evaluate(test_data , test_labels)\n",
        "print(f\"test_loss: {test_loss}\")\n",
        "print(f\"test_acc: {test_acc}\")\n"
      ],
      "metadata": {
        "colab": {
          "base_uri": "https://localhost:8080/"
        },
        "id": "96UKRcyKU97v",
        "outputId": "529f368c-79ba-470c-9668-2a763c42e059"
      },
      "execution_count": 7,
      "outputs": [
        {
          "output_type": "stream",
          "name": "stdout",
          "text": [
            "Epoch 1/6\n",
            "469/469 [==============================] - 2s 4ms/step - loss: 0.3981 - accuracy: 0.8913\n",
            "Epoch 2/6\n",
            "469/469 [==============================] - 2s 4ms/step - loss: 0.2072 - accuracy: 0.9400\n",
            "Epoch 3/6\n",
            "469/469 [==============================] - 2s 4ms/step - loss: 0.1574 - accuracy: 0.9541\n",
            "Epoch 4/6\n",
            "469/469 [==============================] - 2s 4ms/step - loss: 0.1279 - accuracy: 0.9632\n",
            "Epoch 5/6\n",
            "469/469 [==============================] - 2s 4ms/step - loss: 0.1083 - accuracy: 0.9686\n",
            "Epoch 6/6\n",
            "469/469 [==============================] - 2s 4ms/step - loss: 0.0937 - accuracy: 0.9728\n",
            "313/313 [==============================] - 1s 2ms/step - loss: 0.1055 - accuracy: 0.9668\n",
            "test_loss: 0.10552139580249786\n",
            "test_acc: 0.9667999744415283\n"
          ]
        }
      ]
    },
    {
      "cell_type": "markdown",
      "source": [
        "Subclassing  the model class"
      ],
      "metadata": {
        "id": "icEz3t4EagdP"
      }
    },
    {
      "cell_type": "code",
      "source": [
        "class  customModel(keras.Model):\n",
        "  def __init__(self):\n",
        "    super().__init__()\n",
        "    self.inputs = keras.Input(shape=(28*28,))\n",
        "    self.dense1 =layers.Dense(64, activation=\"relu\")\n",
        "    self.outputs = layers.Dense(10, activation=\"softmax\")\n",
        "\n",
        "  def call(self, inputs):\n",
        "    features = self.dense1 (inputs)\n",
        "    return self.outputs(features)\n",
        "\n",
        "\n",
        "model_custom = customModel()\n",
        "\n",
        "#compilation set\n",
        "\n",
        "model_custom.compile(optimizer= \"adam\",\n",
        "              loss=\"sparse_categorical_crossentropy\",\n",
        "              metrics=[\"accuracy\"])\n",
        "\n",
        "#fitting the model \n",
        "\n",
        "model_custom.fit(train_data, train_labels, epochs=6, batch_size=128)\n",
        "\n",
        "# Evaluate the model on  test data \n",
        "\n",
        "test_loss , test_acc = model_custom.evaluate(test_data , test_labels)\n",
        "print(f\"test_loss: {test_loss}\")\n",
        "print(f\"test_acc: {test_acc}\")\n"
      ],
      "metadata": {
        "id": "euDc6IYcY-X-",
        "colab": {
          "base_uri": "https://localhost:8080/"
        },
        "outputId": "d86d0227-a060-4ecd-d0e5-f346d5dcf585"
      },
      "execution_count": 8,
      "outputs": [
        {
          "output_type": "stream",
          "name": "stdout",
          "text": [
            "Epoch 1/6\n",
            "469/469 [==============================] - 2s 4ms/step - loss: 0.4236 - accuracy: 0.8842\n",
            "Epoch 2/6\n",
            "469/469 [==============================] - 2s 4ms/step - loss: 0.2028 - accuracy: 0.9426\n",
            "Epoch 3/6\n",
            "469/469 [==============================] - 2s 4ms/step - loss: 0.1564 - accuracy: 0.9558\n",
            "Epoch 4/6\n",
            "469/469 [==============================] - 2s 4ms/step - loss: 0.1286 - accuracy: 0.9633\n",
            "Epoch 5/6\n",
            "469/469 [==============================] - 2s 4ms/step - loss: 0.1098 - accuracy: 0.9681\n",
            "Epoch 6/6\n",
            "469/469 [==============================] - 2s 3ms/step - loss: 0.0948 - accuracy: 0.9723\n",
            "313/313 [==============================] - 1s 2ms/step - loss: 0.1081 - accuracy: 0.9670\n",
            "test_loss: 0.10808917135000229\n",
            "test_acc: 0.9670000076293945\n"
          ]
        }
      ]
    },
    {
      "cell_type": "code",
      "source": [],
      "metadata": {
        "id": "QoaeuYY3ajBM"
      },
      "execution_count": 8,
      "outputs": []
    }
  ]
}